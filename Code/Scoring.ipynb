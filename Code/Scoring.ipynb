{
 "cells": [
  {
   "cell_type": "code",
   "execution_count": 1,
   "id": "ad21a724-fdb5-4c51-a48f-e5069bf3abf8",
   "metadata": {},
   "outputs": [],
   "source": [
    "import pandas as pd\n",
    "import joblib\n",
    "import numpy as np\n",
    "from sklearn.preprocessing import OneHotEncoder\n",
    "from sklearn.compose import ColumnTransformer\n",
    "from sklearn.pipeline import Pipeline\n",
    "\n",
    "# Load the trained model\n",
    "model = joblib.load('random_forest_model.pkl')\n",
    "\n",
    "def preprocess_data(new_data):\n",
    "    # Load the original training data to get preprocessing details\n",
    "    data_url = \"https://raw.githubusercontent.com/DwaipayanDutta/Assignment/main/Data%20Files/train.csv\"\n",
    "    train_data = pd.read_csv(data_url)\n",
    "    categorical_cols = train_data.select_dtypes(include=['object']).columns.tolist()\n",
    "    new_data = new_data.dropna(axis=1, how='all')\n",
    "    for col in categorical_cols:\n",
    "        if col not in new_data.columns:\n",
    "            new_data[col] = np.nan \n",
    "    \n",
    "    preprocessor = ColumnTransformer(\n",
    "        transformers=[\n",
    "            ('cat', OneHotEncoder(handle_unknown='ignore'), categorical_cols),\n",
    "            ('num', 'passthrough', new_data.select_dtypes(include=[np.number]).columns.tolist())  \n",
    "        ],\n",
    "        remainder='passthrough'  \n",
    "    )\n",
    "    new_data_transformed = preprocessor.fit_transform(new_data)\n",
    "    \n",
    "    return new_data_transformed\n",
    "\n",
    "def score_new_data(file_path):\n",
    "    new_data = pd.read_csv(file_path)\n",
    "    processed_data = preprocess_data(new_data)\n",
    "    predictions = model.predict(processed_data)\n",
    "    results_df = pd.DataFrame(predictions, columns=['Predicted Label'])\n",
    "    return results_df"
   ]
  },
  {
   "cell_type": "code",
   "execution_count": null,
   "id": "a7447c9f-33c4-4be2-a4d0-38f0c44e6801",
   "metadata": {},
   "outputs": [],
   "source": [
    "if __name__ == \"__main__\":\n",
    "    file_path = 'new_data.csv' \n",
    "    results = score_new_data(file_path)\n",
    "    \n",
    "    print(\"Predictions on New Data:\")\n",
    "    print(results)"
   ]
  }
 ],
 "metadata": {
  "kernelspec": {
   "display_name": "Python 3 (ipykernel)",
   "language": "python",
   "name": "python3"
  },
  "language_info": {
   "codemirror_mode": {
    "name": "ipython",
    "version": 3
   },
   "file_extension": ".py",
   "mimetype": "text/x-python",
   "name": "python",
   "nbconvert_exporter": "python",
   "pygments_lexer": "ipython3",
   "version": "3.12.4"
  }
 },
 "nbformat": 4,
 "nbformat_minor": 5
}
